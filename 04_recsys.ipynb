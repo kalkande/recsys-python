{
  "nbformat": 4,
  "nbformat_minor": 0,
  "metadata": {
    "colab": {
      "name": "04_recsys.ipynb",
      "provenance": [],
      "collapsed_sections": [],
      "authorship_tag": "ABX9TyOST4bOrrsXV7GOTn7BtTi9",
      "include_colab_link": true
    },
    "kernelspec": {
      "name": "python3",
      "display_name": "Python 3"
    },
    "language_info": {
      "name": "python"
    }
  },
  "cells": [
    {
      "cell_type": "markdown",
      "metadata": {
        "id": "view-in-github",
        "colab_type": "text"
      },
      "source": [
        "<a href=\"https://colab.research.google.com/github/kalkande/recsys-python/blob/main/04_recsys.ipynb\" target=\"_parent\"><img src=\"https://colab.research.google.com/assets/colab-badge.svg\" alt=\"Open In Colab\"/></a>"
      ]
    },
    {
      "cell_type": "code",
      "execution_count": 585,
      "metadata": {
        "id": "UBae4OJwgWzw"
      },
      "outputs": [],
      "source": [
        "#第4章 k近傍法\n",
        "#準備\n",
        "import pprint\n",
        "import numpy as np\n",
        "np.set_printoptions(precision=3)\n",
        "\n",
        "# 上位K件\n",
        "TOP_K = 3\n",
        "# 近傍アイテム数\n",
        "K_ITEMS = 3\n",
        "# しきい値\n",
        "THETA = 0\n",
        "\n",
        "Du = np.array([\n",
        "               [5, 3, +1],\n",
        "               [6, 2, +1],\n",
        "               [4, 1, +1],\n",
        "               [8, 5, -1],\n",
        "               [2, 4, -1],\n",
        "               [3, 6, -1],\n",
        "               [7, 6, -1],\n",
        "               [4, 2, np.nan],\n",
        "               [5, 1, np.nan],\n",
        "               [8, 6, np.nan],\n",
        "               [3, 4, np.nan],\n",
        "               [4, 7, np.nan],\n",
        "               [4, 4, np.nan],\n",
        "])\n",
        "I = np.arange(Du.shape[0])\n",
        "x = Du[:,:-1]\n",
        "ru = Du[:,-1]\n",
        "\n",
        "Iu = I[~np.isnan(ru)]\n",
        "Iup = I[ru==+1]\n",
        "Iun = I[ru==-1]\n",
        "Iu_not = np.setdiff1d(I, Iu)"
      ]
    },
    {
      "cell_type": "code",
      "source": [
        "# 関数\n",
        "def dist(xi, xj):\n",
        "    \"\"\"\n",
        "    距離関数：アイテムiの特徴ベクトルxiとアイテムjの特徴ベクトルxjのユークリッド距離を返す。\n",
        "\n",
        "    Parameters\n",
        "    ----------\n",
        "    xi : ndarray\n",
        "        アイテムiの特徴ベクトル\n",
        "    xj : ndarray\n",
        "        アイテムjの特徴ベクトル\n",
        "\n",
        "    Returns\n",
        "    -------\n",
        "    float\n",
        "        ユークリッド距離\n",
        "    \"\"\"\n",
        "    #【    問01    】\n",
        "    # ０１ ユークリッド距離\n",
        "    distance = np.sqrt( np.sum( [(xi[k] - xj[k])**2 for k in range(0,np.size(xi),1) ] ) )\n",
        "    distance = np.sqrt( np.sum( (xi - xj)**2) )\n",
        "    \n",
        "\n",
        "    return distance"
      ],
      "metadata": {
        "id": "aymfgnknxIKO"
      },
      "execution_count": 586,
      "outputs": []
    },
    {
      "cell_type": "code",
      "source": [
        "i = 7\n",
        "j = 2\n",
        "print('dist(x{}, x{}) = {:.3f}'.format(i, j, dist(x[i], x[j])))\n",
        "i = 7\n",
        "j = 3\n",
        "print('dist(x{}, x{}) = {:.3f}'.format(i, j, dist(x[i], x[j])))"
      ],
      "metadata": {
        "colab": {
          "base_uri": "https://localhost:8080/"
        },
        "id": "BvJWb7m1sVH_",
        "outputId": "6f2c175d-ab44-4350-fcfc-50841970d067"
      },
      "execution_count": 587,
      "outputs": [
        {
          "output_type": "stream",
          "name": "stdout",
          "text": [
            "dist(x7, x2) = 1.000\n",
            "dist(x7, x3) = 5.000\n"
          ]
        }
      ]
    },
    {
      "cell_type": "code",
      "source": [
        "#02 アイテム-アイテム距離行列\n",
        "#【    問02    】\n",
        "D = np.zeros( (np.size(Iu_not),np.size(Iu)) )\n",
        "\n",
        "\n",
        "for i in range(0,np.size(Iu_not),1):\n",
        "  for j in range(0,np.size(Iu),1):\n",
        "    D[i,j] = dist(x[Iu_not[i]],x[Iu[j]])\n",
        "\n",
        "D = np.array([[dist(x[Iu_not[i]],x[Iu[j]])\n",
        "          for i in range(0,np.size(Iu_not),1)]  \n",
        "            for j in range(0,np.size(Iu),1)])\n",
        "\n",
        "print('D = \\n{}'.format(D))"
      ],
      "metadata": {
        "colab": {
          "base_uri": "https://localhost:8080/"
        },
        "id": "YY2Qt1Suq2ff",
        "outputId": "ac574618-3cc4-4bd4-ce79-a8365b3f34d2"
      },
      "execution_count": 588,
      "outputs": [
        {
          "output_type": "stream",
          "name": "stdout",
          "text": [
            "D = \n",
            "[[1.414 2.    4.243 2.236 4.123 1.414]\n",
            " [2.    1.414 4.472 3.606 5.385 2.828]\n",
            " [1.    1.    6.403 3.162 6.    3.   ]\n",
            " [5.    5.    1.    5.099 4.472 4.123]\n",
            " [2.828 4.243 6.325 1.    3.606 2.   ]\n",
            " [4.123 5.385 5.    2.    1.414 2.236]\n",
            " [5.    5.385 1.    4.472 3.162 3.606]]\n"
          ]
        }
      ]
    },
    {
      "cell_type": "code",
      "source": [
        "#03 距離の昇順に並べ替えたインデックスの配列\n",
        "#【    問03    】\n",
        "D = np.zeros( (np.size(I),np.size(Iu)) )\n",
        "\n",
        "D = np.array([[dist(x[I[i]],x[Iu[j]])\n",
        "          for i in range(0,np.size(I),1)]  \n",
        "            for j in range(0,np.size(Iu),1)])\n",
        "\n",
        "Ii = np.argsort(D.T,axis=1)\n",
        "print('Ii = \\n{}'.format(Ii))"
      ],
      "metadata": {
        "colab": {
          "base_uri": "https://localhost:8080/"
        },
        "id": "7kbny9eRxr2-",
        "outputId": "e281cefa-6e91-4e93-bed1-a459455ae348"
      },
      "execution_count": 589,
      "outputs": [
        {
          "output_type": "stream",
          "name": "stdout",
          "text": [
            "Ii = \n",
            "[[0 1 2 4 3 5 6]\n",
            " [1 0 2 3 6 4 5]\n",
            " [2 0 1 4 5 3 6]\n",
            " [3 6 0 1 5 2 4]\n",
            " [4 5 0 2 1 6 3]\n",
            " [5 4 0 6 1 2 3]\n",
            " [6 3 0 5 1 4 2]\n",
            " [2 0 1 4 5 3 6]\n",
            " [2 1 0 4 3 5 6]\n",
            " [3 6 0 1 5 4 2]\n",
            " [4 5 0 2 1 6 3]\n",
            " [5 6 4 0 3 1 2]\n",
            " [0 4 5 1 2 6 3]]\n"
          ]
        }
      ]
    },
    {
      "cell_type": "code",
      "source": [
        "#04 近傍k件のアイテムのインデックス配列\n",
        "#【    問04    】\n",
        "Ii = Ii[:,:3]\n",
        "print('Ii = \\n{}'.format(Ii))"
      ],
      "metadata": {
        "colab": {
          "base_uri": "https://localhost:8080/"
        },
        "id": "9WOmiCt4Zcdr",
        "outputId": "a3af450b-410c-4545-b122-4b1910533dad"
      },
      "execution_count": 590,
      "outputs": [
        {
          "output_type": "stream",
          "name": "stdout",
          "text": [
            "Ii = \n",
            "[[0 1 2]\n",
            " [1 0 2]\n",
            " [2 0 1]\n",
            " [3 6 0]\n",
            " [4 5 0]\n",
            " [5 4 0]\n",
            " [6 3 0]\n",
            " [2 0 1]\n",
            " [2 1 0]\n",
            " [3 6 0]\n",
            " [4 5 0]\n",
            " [5 6 4]\n",
            " [0 4 5]]\n"
          ]
        }
      ]
    },
    {
      "cell_type": "code",
      "source": [
        "#05 各対象アイテムの近傍アイテム集合\n",
        "#【    問05    】\n",
        "Ii_dic =  { i : Ii[i] for i in Iu_not }\n",
        "print('Ii = ')\n",
        "pprint.pprint(Ii_dic)"
      ],
      "metadata": {
        "colab": {
          "base_uri": "https://localhost:8080/"
        },
        "id": "GLUljyiYZ7h5",
        "outputId": "affc1a59-33c6-4e31-b597-7fc07dbcf987"
      },
      "execution_count": 591,
      "outputs": [
        {
          "output_type": "stream",
          "name": "stdout",
          "text": [
            "Ii = \n",
            "{7: array([2, 0, 1]),\n",
            " 8: array([2, 1, 0]),\n",
            " 9: array([3, 6, 0]),\n",
            " 10: array([4, 5, 0]),\n",
            " 11: array([5, 6, 4]),\n",
            " 12: array([0, 4, 5])}\n"
          ]
        }
      ]
    },
    {
      "cell_type": "code",
      "source": [
        "# 嗜好予測（多数決方式）\n",
        "# 関数\n",
        "def predict1(u, i):\n",
        "    \"\"\"\n",
        "    予測関数（多数決方式）：多数決方式によりユーザuのアイテムiに対する予測評価値を返す。\n",
        "\n",
        "    Parameters\n",
        "    ----------\n",
        "    u : int\n",
        "        ユーザuのID（ダミー）\n",
        "    i : int\n",
        "        アイテムiのID\n",
        "\n",
        "    Returns\n",
        "    -------\n",
        "    float\n",
        "        予測評価値\n",
        "    \"\"\"\n",
        "    #【    問06    】\n",
        "    Iip = Iup[np.isin(Iup,Ii[i])]\n",
        "    print('I{}+ = {}'.format(i, Iip))\n",
        "    #【    問07    】\n",
        "    Iin = Iun[np.isin(Iun,Ii[i])]\n",
        "    print('I{}- = {}'.format(i, Iin))\n",
        "    #【    問08    】\n",
        "    rui = 0\n",
        "    if np.size(Iip) > np.size(Iin):\n",
        "      rui = +1\n",
        "    elif np.size(Iip) < np.size(Iin):\n",
        "      rui = -1\n",
        "    else:\n",
        "      0\n",
        "    return rui"
      ],
      "metadata": {
        "id": "gKWCZtk_eki1"
      },
      "execution_count": 592,
      "outputs": []
    },
    {
      "cell_type": "code",
      "source": [
        "u = 0\n",
        "i = 7\n",
        "print('predict1({}, {}) = {:.3f}'.format(u, i, predict1(u, i)))\n",
        "u = 0\n",
        "i = 9\n",
        "print('predict1({}, {}) = {:.3f}'.format(u, i, predict1(u, i)))"
      ],
      "metadata": {
        "colab": {
          "base_uri": "https://localhost:8080/"
        },
        "id": "NWaXWIkYermv",
        "outputId": "20fdd36a-6788-4b94-f3ec-8d8b1a9f26e9"
      },
      "execution_count": 593,
      "outputs": [
        {
          "output_type": "stream",
          "name": "stdout",
          "text": [
            "I7+ = [0 1 2]\n",
            "I7- = []\n",
            "predict1(0, 7) = 1.000\n",
            "I9+ = [0]\n",
            "I9- = [3 6]\n",
            "predict1(0, 9) = -1.000\n"
          ]
        }
      ]
    },
    {
      "cell_type": "code",
      "source": [
        "# 嗜好予測（平均方式）\n",
        "# 関数\n",
        "def predict2(u, i):\n",
        "    \"\"\"\n",
        "    予測関数（平均方式）：平均方式によりユーザuのアイテムiに対する評価値を予測する。\n",
        "\n",
        "    Parameters\n",
        "    ----------\n",
        "    u : int\n",
        "        ユーザuのID（ダミー）\n",
        "    i : int\n",
        "        アイテムiのID\n",
        "\n",
        "    Returns\n",
        "    -------\n",
        "    float\n",
        "        予測評価値\n",
        "    \"\"\"\n",
        "#    【    問09    】\n",
        "    rui = np.sum( [ ru[k] for k in Ii[i] ] ) / np.size(Ii[i])\n",
        "    return rui"
      ],
      "metadata": {
        "id": "Vowj9kR830fh"
      },
      "execution_count": 600,
      "outputs": []
    },
    {
      "cell_type": "code",
      "source": [
        "u = 0\n",
        "i = 7\n",
        "print('predict2({}, {}) = {:.3f}'.format(u, i, predict2(u, i)))\n",
        "u = 0\n",
        "i = 9\n",
        "print('predict2({}, {}) = {:.3f}'.format(u, i, predict2(u, i)))"
      ],
      "metadata": {
        "colab": {
          "base_uri": "https://localhost:8080/"
        },
        "id": "JuQBAEIV39XU",
        "outputId": "68c20c0d-0e13-4b3a-d932-d8e044ebd5e8"
      },
      "execution_count": 601,
      "outputs": [
        {
          "output_type": "stream",
          "name": "stdout",
          "text": [
            "predict2(0, 7) = 1.000\n",
            "predict2(0, 9) = -0.333\n"
          ]
        }
      ]
    },
    {
      "cell_type": "code",
      "source": [
        "# 09 平均方式による予測評価値\n",
        "def score(u, i):\n",
        "    \"\"\"\n",
        "    スコア関数：ユーザuのアイテムiに対するスコアを返す。\n",
        "\n",
        "    Parameters\n",
        "    ----------\n",
        "    u : int\n",
        "        ユーザuのID\n",
        "    i : int\n",
        "        アイテムiのID\n",
        "\n",
        "    Returns\n",
        "    -------\n",
        "    float\n",
        "        スコア\n",
        "    \"\"\"\n",
        "    return predict2(u, i)"
      ],
      "metadata": {
        "id": "Nbzg-0aoBZLv"
      },
      "execution_count": 596,
      "outputs": []
    },
    {
      "cell_type": "code",
      "source": [
        "def order(u, I):\n",
        "    \"\"\"\n",
        "    順序付け関数：アイテム集合Iにおいて、ユーザu向けの推薦リストを返す。\n",
        "\n",
        "    Parameters\n",
        "    ----------\n",
        "    u : int\n",
        "        ユーザuのID\n",
        "    I : ndarray\n",
        "        アイテム集合\n",
        "\n",
        "    Returns\n",
        "    -------\n",
        "    list\n",
        "        タプル(アイテムID: スコア)を要素にした推薦リスト\n",
        "    \"\"\"\n",
        "    scores = {i: score(u, i) for i in I}\n",
        "    #【    問10    】\n",
        "    {scores.pop(k) for k, v in list(scores.items()) if v < THETA}\n",
        "    rec_list = sorted(scores.items(), key=lambda x:x[1], reverse=True)[:TOP_K]\n",
        "    return rec_list"
      ],
      "metadata": {
        "id": "keVJgUjTE1n4"
      },
      "execution_count": 627,
      "outputs": []
    },
    {
      "cell_type": "code",
      "source": [
        "# コード\n",
        "u = 0\n",
        "rec_list = order(u, Iu_not)\n",
        "print('rec_list = ')\n",
        "for i, scr in rec_list:\n",
        "    print('{}: {:.3f}'.format(i, scr))"
      ],
      "metadata": {
        "colab": {
          "base_uri": "https://localhost:8080/"
        },
        "id": "1bQyH8QvFLLL",
        "outputId": "246c21ba-2589-4086-feef-e9c36a45f8e0"
      },
      "execution_count": 628,
      "outputs": [
        {
          "output_type": "stream",
          "name": "stdout",
          "text": [
            "rec_list = \n",
            "7: 1.000\n",
            "8: 1.000\n"
          ]
        }
      ]
    }
  ]
}
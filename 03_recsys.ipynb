{
  "nbformat": 4,
  "nbformat_minor": 0,
  "metadata": {
    "colab": {
      "name": "03_recsys.ipynb",
      "provenance": [],
      "collapsed_sections": [],
      "authorship_tag": "ABX9TyOLpEtePdy8dqoUkOmyHwuB",
      "include_colab_link": true
    },
    "kernelspec": {
      "name": "python3",
      "display_name": "Python 3"
    },
    "language_info": {
      "name": "python"
    }
  },
  "cells": [
    {
      "cell_type": "markdown",
      "metadata": {
        "id": "view-in-github",
        "colab_type": "text"
      },
      "source": [
        "<a href=\"https://colab.research.google.com/github/kalkande/recsys-python/blob/main/03_recsys.ipynb\" target=\"_parent\"><img src=\"https://colab.research.google.com/assets/colab-badge.svg\" alt=\"Open In Colab\"/></a>"
      ]
    },
    {
      "cell_type": "code",
      "execution_count": null,
      "metadata": {
        "id": "jWpa35s_LzcN"
      },
      "outputs": [],
      "source": [
        "#準備\n",
        "import pprint\n",
        "import numpy as np\n",
        "\n",
        "# 上位K件\n",
        "TOP_K = 3\n",
        "\n",
        "Du = np.array([\n",
        "               [5, 3, +1],\n",
        "               [6, 2, +1],\n",
        "               [4, 1, +1],\n",
        "               [8, 5, -1],\n",
        "               [2, 4, -1],\n",
        "               [3, 6, -1],\n",
        "               [7, 6, -1],\n",
        "               [4, 2, np.nan],\n",
        "               [5, 1, np.nan],\n",
        "               [8, 6, np.nan],\n",
        "               [3, 4, np.nan],\n",
        "               [4, 7, np.nan],\n",
        "               [4, 4, np.nan],\n",
        "])\n",
        "I = np.arange(Du.shape[0])\n",
        "x = Du[:,:-1]\n",
        "ru = Du[:,-1]\n",
        "\n",
        "Iu = I[~np.isnan(ru)]\n",
        "Iup = I[ru==+1]\n",
        "Iun = I[ru==-1]\n",
        "Iu_not = np.setdiff1d(I, Iu)"
      ]
    },
    {
      "cell_type": "code",
      "source": [
        "#01 好きなアイテム集合に含まれるアイテムの特徴ベクトルの集合\n",
        "print('x[Iu+] = \\n{}'.format( x[Iup] ))"
      ],
      "metadata": {
        "colab": {
          "base_uri": "https://localhost:8080/"
        },
        "id": "4leq0MaPQs40",
        "outputId": "faf59912-053a-492b-9ba8-bff6534df76d"
      },
      "execution_count": null,
      "outputs": [
        {
          "output_type": "stream",
          "name": "stdout",
          "text": [
            "x[Iu+] = \n",
            "[[5. 3.]\n",
            " [6. 2.]\n",
            " [4. 1.]]\n"
          ]
        }
      ]
    },
    {
      "cell_type": "code",
      "source": [
        "#02 特徴ベクトルの総和\n",
        "print('sum(x[Iu+]) = {}'.format( np.sum(x[Iup], axis=0) ))"
      ],
      "metadata": {
        "colab": {
          "base_uri": "https://localhost:8080/"
        },
        "id": "-TXRlGLBQwQT",
        "outputId": "252cc4d1-f570-4b81-a9bd-d0a7bde5fa23"
      },
      "execution_count": null,
      "outputs": [
        {
          "output_type": "stream",
          "name": "stdout",
          "text": [
            "sum(x[Iu+]) = [15.  6.]\n"
          ]
        }
      ]
    },
    {
      "cell_type": "code",
      "source": [
        "#03 ユーザプロファイル\n",
        "pu = np.sum(x[Iup],axis=0)/np.sum(Iup)\n",
        "print('pu = {}'.format(pu))"
      ],
      "metadata": {
        "colab": {
          "base_uri": "https://localhost:8080/"
        },
        "id": "Rko5PP5_eL7f",
        "outputId": "fa337aaf-a97d-4221-d515-aef27043302e"
      },
      "execution_count": null,
      "outputs": [
        {
          "output_type": "stream",
          "name": "stdout",
          "text": [
            "pu = [5. 2.]\n"
          ]
        }
      ]
    },
    {
      "cell_type": "code",
      "source": [
        "#04 ベクトルの内積\n",
        "i = 4\n",
        "num = np.sum(pu@x[i])\n",
        "print('num = {}'.format(num))\n",
        "num = np.dot(pu,x[i])\n",
        "print('num = {}'.format(num))"
      ],
      "metadata": {
        "colab": {
          "base_uri": "https://localhost:8080/"
        },
        "id": "6MAb3aW-jV79",
        "outputId": "9a19d9bd-f79d-40fc-aa5b-76597117f95d"
      },
      "execution_count": null,
      "outputs": [
        {
          "output_type": "stream",
          "name": "stdout",
          "text": [
            "num = 18.0\n",
            "num = 18.0\n"
          ]
        }
      ]
    },
    {
      "cell_type": "code",
      "source": [
        "#05 ユーザプロファイルのノルム\n",
        "den_u = np.linalg.norm(pu)\n",
        "print('den_u = {:.3f}'.format(den_u))\n",
        "den_u = np.sqrt(pu@pu)\n",
        "print('den_u = {:.3f}'.format(den_u))\n",
        "den_u = np.sqrt( np.sum([ pu[i]**2 for i in range(0, np.shape(pu)[0], 1) ]) ) \n",
        "print('den_u = {:.3f}'.format(den_u))\n",
        "den_u = np.sqrt( np.sum([ pu**2 ] ) )\n",
        "print('den_u = {:.3f}'.format(den_u))"
      ],
      "metadata": {
        "id": "kucvhTlGto8V",
        "colab": {
          "base_uri": "https://localhost:8080/"
        },
        "outputId": "fb6bf028-6e37-43e8-cf67-acd942da2849"
      },
      "execution_count": null,
      "outputs": [
        {
          "output_type": "stream",
          "name": "stdout",
          "text": [
            "den_u = 5.385\n",
            "den_u = 5.385\n",
            "den_u = 5.385\n",
            "den_u = 5.385\n"
          ]
        }
      ]
    },
    {
      "cell_type": "code",
      "source": [
        "#06 特徴ベクトルのノルム\n",
        "i = 4\n",
        "den_i = np.linalg.norm(x[i])\n",
        "print('den_i = {:.3f}'.format(den_i))"
      ],
      "metadata": {
        "id": "4OMCtUmqESNG",
        "colab": {
          "base_uri": "https://localhost:8080/"
        },
        "outputId": "ec5352aa-1fcd-444b-a159-edc5a97ec63f"
      },
      "execution_count": null,
      "outputs": [
        {
          "output_type": "stream",
          "name": "stdout",
          "text": [
            "den_i = 4.472\n"
          ]
        }
      ]
    },
    {
      "cell_type": "code",
      "source": [
        "#コサイン類似度\n",
        "def cos(pu, xi):\n",
        "    \"\"\"\n",
        "    コサイン類似度関数：ユーザプロファイルpuとアイテムiの特徴ベクトルxiのコサイン類似度を返す。\n",
        "\n",
        "    Parameters\n",
        "    ----------\n",
        "    pu : ndarray\n",
        "        ユーザuのユーザプロファイル\n",
        "    xi : ndarray\n",
        "        アイテムiの特徴ベクトル\n",
        "\n",
        "    Returns\n",
        "    -------\n",
        "    float\n",
        "        コサイン類似度\n",
        "    \"\"\"\n",
        "    num = np.sum(pu@xi)\n",
        " #   print('num = {}'.format(num))\n",
        "    den_u = np.linalg.norm(pu)\n",
        " #   print('den_u = {:.3f}'.format(den_u))\n",
        "    den_i = np.linalg.norm(xi)\n",
        " #   print('den_i = {:.3f}'.format(den_i))\n",
        "    \n",
        "    cosine = num / (den_u * den_i)\n",
        "    return cosine"
      ],
      "metadata": {
        "id": "Mvi6JEXvVP7X"
      },
      "execution_count": null,
      "outputs": []
    },
    {
      "cell_type": "code",
      "source": [
        "u = 0\n",
        "i = 7\n",
        "print('cos(p{}, x{}) = {:.3f}'.format(u, i, cos(pu, x[i])))\n",
        "u = 0\n",
        "i = 11\n",
        "print('cos(p{}, x{}) = {:.3f}'.format(u, i, cos(pu, x[i])))"
      ],
      "metadata": {
        "colab": {
          "base_uri": "https://localhost:8080/"
        },
        "id": "t5boUdVs4dpw",
        "outputId": "78596f69-be08-4772-bd99-d06f5331924b"
      },
      "execution_count": null,
      "outputs": [
        {
          "output_type": "stream",
          "name": "stdout",
          "text": [
            "cos(p0, x7) = 0.997\n",
            "cos(p0, x11) = 0.783\n"
          ]
        }
      ]
    },
    {
      "cell_type": "code",
      "source": [
        "# 推薦\n",
        "def score(u, i):\n",
        "    \"\"\"\n",
        "    スコア関数：ユーザuのアイテムiに対するスコアを返す。\n",
        "\n",
        "    Parameters\n",
        "    ----------\n",
        "    u : int\n",
        "        ユーザuのID（ダミー）\n",
        "    i : int\n",
        "        アイテムiのID\n",
        "\n",
        "    Returns\n",
        "    -------\n",
        "    float\n",
        "        スコア\n",
        "    \"\"\"\n",
        "    return cos(pu, x[i])"
      ],
      "metadata": {
        "id": "cnKqUKBputcI"
      },
      "execution_count": null,
      "outputs": []
    },
    {
      "cell_type": "code",
      "source": [
        "def order(u, I):\n",
        "    \"\"\"\n",
        "    順序付け関数：アイテム集合Iにおいて、ユーザu向けの推薦リストを返す。\n",
        "\n",
        "    Parameters\n",
        "    ----------\n",
        "    u : int\n",
        "        ユーザuのID\n",
        "    I : ndarray\n",
        "        アイテム集合\n",
        "\n",
        "    Returns\n",
        "    -------\n",
        "    list\n",
        "        タプル(アイテムID: スコア)を要素にした推薦リスト\n",
        "    \"\"\"\n",
        "    scores = dict()\n",
        "    for i in I:\n",
        "      scores.update({ i : score(u,i) })\n",
        "\n",
        "    print('scores = ')\n",
        "    pprint.pprint(scores)\n",
        "\n",
        "    rec_list =  sorted(scores.items(), reverse=False)[:TOP_K]\n",
        "    return rec_list"
      ],
      "metadata": {
        "id": "sZcw2CycyONX"
      },
      "execution_count": null,
      "outputs": []
    },
    {
      "cell_type": "code",
      "source": [
        "u = 0\n",
        "rec_list = order(u, Iu_not)\n",
        "print('rec_list = ')\n",
        "for i, scr in rec_list:\n",
        "    print('{}: {:.3f}'.format(i, scr))"
      ],
      "metadata": {
        "id": "Un8iO6cR0KsB",
        "colab": {
          "base_uri": "https://localhost:8080/"
        },
        "outputId": "5fd11ba2-fc46-4095-8f1b-ab9d3dda3836"
      },
      "execution_count": null,
      "outputs": [
        {
          "output_type": "stream",
          "name": "stdout",
          "text": [
            "scores = \n",
            "{7: 0.9965457582448796,\n",
            " 8: 0.9832820049844603,\n",
            " 9: 0.9656157585206697,\n",
            " 10: 0.8541985556144386,\n",
            " 11: 0.783110847498294,\n",
            " 12: 0.9191450300180578}\n",
            "rec_list = \n",
            "7: 0.997\n",
            "8: 0.983\n",
            "9: 0.966\n"
          ]
        }
      ]
    },
    {
      "cell_type": "code",
      "source": [
        "#０７ 各アイテムに対するスコア\n",
        "u = 0\n",
        "I = Iu_not\n",
        "scores = dict()\n",
        "for i in I:\n",
        "  scores.update({ i : score(u,i) })\n",
        "print('scores = ')\n",
        "pprint.pprint(scores)"
      ],
      "metadata": {
        "colab": {
          "base_uri": "https://localhost:8080/"
        },
        "id": "Ta7_VqynzqO1",
        "outputId": "5d074e03-ce21-4b1a-a393-8a55aa74e46f"
      },
      "execution_count": null,
      "outputs": [
        {
          "output_type": "stream",
          "name": "stdout",
          "text": [
            "scores = \n",
            "{7: 0.9965457582448796,\n",
            " 8: 0.9832820049844603,\n",
            " 9: 0.9656157585206697,\n",
            " 10: 0.8541985556144386,\n",
            " 11: 0.783110847498294,\n",
            " 12: 0.9191450300180578}\n"
          ]
        }
      ]
    },
    {
      "cell_type": "code",
      "source": [
        "#u = 0\n",
        "#I = Iu_not\n",
        "#scores = dict()\n",
        "#scores = { i : score(u,i) for i in I }\n",
        "#print('scores = ')\n",
        "#pprint.pprint(scores)"
      ],
      "metadata": {
        "id": "l4WxkbW16EzZ"
      },
      "execution_count": null,
      "outputs": []
    },
    {
      "cell_type": "code",
      "source": [
        "#08 推薦リスト\n",
        "rec_list = sorted(scores.items(), reverse=False)[:TOP_K]\n",
        "print('rec_list = ')\n",
        "for i, scr in rec_list:\n",
        "    print('{}: {:.3f}'.format(i, scr))"
      ],
      "metadata": {
        "id": "lpUnWR35zrmX",
        "colab": {
          "base_uri": "https://localhost:8080/"
        },
        "outputId": "937dce25-0251-4ec3-b3b5-3ed552cc0d76"
      },
      "execution_count": null,
      "outputs": [
        {
          "output_type": "stream",
          "name": "stdout",
          "text": [
            "rec_list = \n",
            "7: 0.997\n",
            "8: 0.983\n",
            "9: 0.966\n"
          ]
        }
      ]
    }
  ]
}
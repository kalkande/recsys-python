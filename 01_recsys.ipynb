{
  "nbformat": 4,
  "nbformat_minor": 0,
  "metadata": {
    "colab": {
      "name": "01_recsys.ipynb",
      "provenance": [],
      "collapsed_sections": [],
      "authorship_tag": "ABX9TyO8o52nPWf8UKdyK0QaqsrX",
      "include_colab_link": true
    },
    "kernelspec": {
      "name": "python3",
      "display_name": "Python 3"
    },
    "language_info": {
      "name": "python"
    }
  },
  "cells": [
    {
      "cell_type": "markdown",
      "metadata": {
        "id": "view-in-github",
        "colab_type": "text"
      },
      "source": [
        "<a href=\"https://colab.research.google.com/github/kalkande/recsys-python/blob/main/01_recsys.ipynb\" target=\"_parent\"><img src=\"https://colab.research.google.com/assets/colab-badge.svg\" alt=\"Open In Colab\"/></a>"
      ]
    },
    {
      "cell_type": "code",
      "execution_count": null,
      "metadata": {
        "id": "MhorJU7dOCXf",
        "outputId": "db3f3cb3-6992-4469-bfa1-fecaf3e9b9b6",
        "colab": {
          "base_uri": "https://localhost:8080/"
        }
      },
      "outputs": [
        {
          "output_type": "stream",
          "name": "stdout",
          "text": [
            "Du = \n",
            " [[ 5.  3.  1.]\n",
            " [ 6.  2.  1.]\n",
            " [ 4.  1.  1.]\n",
            " [ 8.  5. -1.]\n",
            " [ 2.  4. -1.]\n",
            " [ 3.  6. -1.]\n",
            " [ 7.  6. -1.]\n",
            " [ 4.  2. nan]\n",
            " [ 5.  1. nan]\n",
            " [ 8.  6. nan]\n",
            " [ 3.  4. nan]\n",
            " [ 4.  7. nan]\n",
            " [ 4.  4. nan]]\n"
          ]
        }
      ],
      "source": [
        "＃https://recsyslab.github.io/recsys-python/ja/chap01.html\n",
        "\n",
        "import numpy as np\n",
        "nan = np.nan\n",
        "Du = np.array(\n",
        "[[ 5,  3,  1],\n",
        " [ 6,  2,  1],\n",
        " [ 4,  1,  1],\n",
        " [ 8,  5, -1],\n",
        " [ 2,  4, -1],\n",
        " [ 3,  6, -1],\n",
        " [ 7,  6, -1],\n",
        " [ 4,  2, nan],\n",
        " [ 5,  1, nan],\n",
        " [ 8,  6, nan],\n",
        " [ 3,  4, nan],\n",
        " [ 4,  7, nan],\n",
        " [ 4,  4, nan]])\n",
        "print('Du = \\n',format(Du))"
      ]
    },
    {
      "cell_type": "code",
      "source": [
        "print('Duの形状 =',np.shape(Du))"
      ],
      "metadata": {
        "colab": {
          "base_uri": "https://localhost:8080/"
        },
        "id": "T3CtSMylDr_Z",
        "outputId": "97109f9f-9f51-47f9-f154-100bda232de7"
      },
      "execution_count": null,
      "outputs": [
        {
          "output_type": "stream",
          "name": "stdout",
          "text": [
            "Duの形状 = (13, 3)\n"
          ]
        }
      ]
    },
    {
      "cell_type": "code",
      "source": [
        "print('Duの行数 = ',np.shape(Du)[0])"
      ],
      "metadata": {
        "colab": {
          "base_uri": "https://localhost:8080/"
        },
        "id": "zr93bIsBCfOz",
        "outputId": "19395d69-f597-4258-ddce-cb65c1755709"
      },
      "execution_count": null,
      "outputs": [
        {
          "output_type": "stream",
          "name": "stdout",
          "text": [
            "Duの行数 =  13\n"
          ]
        }
      ]
    },
    {
      "cell_type": "code",
      "source": [
        "print('Duの列数 = ',np.shape(Du)[1])"
      ],
      "metadata": {
        "colab": {
          "base_uri": "https://localhost:8080/"
        },
        "id": "nQ_czfa1DiMc",
        "outputId": "d34522b8-672a-45ac-fca7-cf85506bfe9c"
      },
      "execution_count": null,
      "outputs": [
        {
          "output_type": "stream",
          "name": "stdout",
          "text": [
            "Duの列数 =  3\n"
          ]
        }
      ]
    },
    {
      "cell_type": "code",
      "source": [
        "#05 評価履歴の全要素数\n",
        "print('Duの全要素数 = ',np.size(Du))"
      ],
      "metadata": {
        "colab": {
          "base_uri": "https://localhost:8080/"
        },
        "id": "R7Y5pLElD1Zw",
        "outputId": "368d56ad-12c5-462d-9601-df94a8070277"
      },
      "execution_count": null,
      "outputs": [
        {
          "output_type": "stream",
          "name": "stdout",
          "text": [
            "Duの全要素数 =  39\n"
          ]
        }
      ]
    },
    {
      "cell_type": "code",
      "source": [
        "#06 アイテム集合\n",
        "I = np.arange(0, np.shape(Du)[0], 1)\n",
        "print('I ={}'. format(I))"
      ],
      "metadata": {
        "id": "Eg2X2VxKEJcE",
        "colab": {
          "base_uri": "https://localhost:8080/"
        },
        "outputId": "a0f30dae-962f-42b7-a747-ea4838562cba"
      },
      "execution_count": null,
      "outputs": [
        {
          "output_type": "stream",
          "name": "stdout",
          "text": [
            "I =[ 0  1  2  3  4  5  6  7  8  9 10 11 12]\n"
          ]
        }
      ]
    },
    {
      "cell_type": "code",
      "source": [
        "#07 アイテムの特徴ベクトルの集合\n",
        "x = Du[:,0:2]\n",
        "print('x = \\n{}'. format(x))"
      ],
      "metadata": {
        "id": "NIx44zwLPvQj",
        "colab": {
          "base_uri": "https://localhost:8080/"
        },
        "outputId": "d5472855-1817-445e-97c3-e7eb5a5f6964"
      },
      "execution_count": null,
      "outputs": [
        {
          "output_type": "stream",
          "name": "stdout",
          "text": [
            "x = \n",
            "[[5. 3.]\n",
            " [6. 2.]\n",
            " [4. 1.]\n",
            " [8. 5.]\n",
            " [2. 4.]\n",
            " [3. 6.]\n",
            " [7. 6.]\n",
            " [4. 2.]\n",
            " [5. 1.]\n",
            " [8. 6.]\n",
            " [3. 4.]\n",
            " [4. 7.]\n",
            " [4. 4.]]\n"
          ]
        }
      ]
    },
    {
      "cell_type": "code",
      "source": [
        "#08 アイテムiの特徴ベクトル\n",
        "i = 0\n",
        "print('x{} = {}'.format(i, x[i]))"
      ],
      "metadata": {
        "colab": {
          "base_uri": "https://localhost:8080/"
        },
        "id": "SVXmQ8h8-Ifz",
        "outputId": "ca560d34-f260-4f11-f3a5-65b00238fc55"
      },
      "execution_count": null,
      "outputs": [
        {
          "output_type": "stream",
          "name": "stdout",
          "text": [
            "x0 = [5. 3.]\n"
          ]
        }
      ]
    },
    {
      "cell_type": "code",
      "source": [
        "#09 評価値集合\n",
        "ru = Du[:,2]\n",
        "print('ru = {}'.format(ru))"
      ],
      "metadata": {
        "colab": {
          "base_uri": "https://localhost:8080/"
        },
        "id": "KCklwdRP-ktS",
        "outputId": "6244653c-d087-48bf-e8b2-c43673360373"
      },
      "execution_count": null,
      "outputs": [
        {
          "output_type": "stream",
          "name": "stdout",
          "text": [
            "ru = [ 1.  1.  1. -1. -1. -1. -1. nan nan nan nan nan nan]\n"
          ]
        }
      ]
    },
    {
      "cell_type": "code",
      "source": [
        "#10 評価値集合の形状\n",
        "print('ruの形状 = {}'.format(np.shape(ru)))"
      ],
      "metadata": {
        "colab": {
          "base_uri": "https://localhost:8080/"
        },
        "id": "ykeTP9qcA3kE",
        "outputId": "9017d61d-89e1-4a8b-ec2c-42670888b271"
      },
      "execution_count": null,
      "outputs": [
        {
          "output_type": "stream",
          "name": "stdout",
          "text": [
            "ruの形状 = (13,)\n"
          ]
        }
      ]
    },
    {
      "cell_type": "code",
      "source": [
        "#11 評価値集合の全要素数\n",
        "print('ruの全要素数 = {}'.format(np.size(ru)))\n",
        "print('ruの全要素数 = {}'.format(np.shape(ru)[0]))"
      ],
      "metadata": {
        "colab": {
          "base_uri": "https://localhost:8080/"
        },
        "id": "PXcAfOr5Dncb",
        "outputId": "eb456ea1-c726-4ad8-85b8-9f24c69856b5"
      },
      "execution_count": null,
      "outputs": [
        {
          "output_type": "stream",
          "name": "stdout",
          "text": [
            "ruの全要素数 = 13\n",
            "ruの全要素数 = 13\n"
          ]
        }
      ]
    },
    {
      "cell_type": "code",
      "source": [
        "#12 評価値集合の部分集合\n",
        "i = 2\n",
        "j = 5\n",
        "print('ru{}からru{}までの評価値 = {}'.format(i, j-1, ru[i:j]))"
      ],
      "metadata": {
        "colab": {
          "base_uri": "https://localhost:8080/"
        },
        "id": "RG9DlaahFQvh",
        "outputId": "85b56a55-31a8-48a3-e339-b3c4329b57c3"
      },
      "execution_count": null,
      "outputs": [
        {
          "output_type": "stream",
          "name": "stdout",
          "text": [
            "ru2からru4までの評価値 = [ 1. -1. -1.]\n"
          ]
        }
      ]
    },
    {
      "cell_type": "code",
      "source": [
        "#13 評価値集合の要素の逆順\n",
        "print('ruの逆順 = {}'.format(ru[::-1]))"
      ],
      "metadata": {
        "colab": {
          "base_uri": "https://localhost:8080/"
        },
        "id": "7ZNF-QYcGF-k",
        "outputId": "5d99b64f-427b-496d-cb9f-0cd5b0d9efe7"
      },
      "execution_count": null,
      "outputs": [
        {
          "output_type": "stream",
          "name": "stdout",
          "text": [
            "ruの逆順 = [nan nan nan nan nan nan -1. -1. -1. -1.  1.  1.  1.]\n"
          ]
        }
      ]
    },
    {
      "cell_type": "code",
      "source": [
        "#14 アイテムiに対する評価値\n",
        "i = 0\n",
        "print('ru{} = {}'.format(i, ru[i]))"
      ],
      "metadata": {
        "colab": {
          "base_uri": "https://localhost:8080/"
        },
        "id": "D76rEnDEGnwk",
        "outputId": "85cfb6b0-68ac-4d04-e6b1-5b6a5e4f34cc"
      },
      "execution_count": null,
      "outputs": [
        {
          "output_type": "stream",
          "name": "stdout",
          "text": [
            "ru0 = 1.0\n"
          ]
        }
      ]
    },
    {
      "cell_type": "code",
      "source": [
        "#15 ユーザuが未評価であるか否かの判定\n",
        "print('ユーザuが未評価 = {}'.format(np.isnan(ru)))"
      ],
      "metadata": {
        "colab": {
          "base_uri": "https://localhost:8080/"
        },
        "id": "_-RAE9LlHOyw",
        "outputId": "21986594-170e-495e-bc46-c8e31a05c40e"
      },
      "execution_count": null,
      "outputs": [
        {
          "output_type": "stream",
          "name": "stdout",
          "text": [
            "ユーザuが未評価 = [False False False False False False False  True  True  True  True  True\n",
            "  True]\n"
          ]
        }
      ]
    },
    {
      "cell_type": "code",
      "source": [
        "#16 ユーザが評価済みであるか否かの判定\n",
        "print('ユーザuが評価済み = {}'.format(~np.isnan(ru)))"
      ],
      "metadata": {
        "colab": {
          "base_uri": "https://localhost:8080/"
        },
        "id": "rdBn1Y_mHlM4",
        "outputId": "01251986-549d-4204-c3d7-9479b60a09e0"
      },
      "execution_count": null,
      "outputs": [
        {
          "output_type": "stream",
          "name": "stdout",
          "text": [
            "ユーザuが評価済み = [ True  True  True  True  True  True  True False False False False False\n",
            " False]\n"
          ]
        }
      ]
    },
    {
      "cell_type": "code",
      "source": [
        "#17 ユーザuが評価済みのアイテム集合\n",
        "Iu = I[~np.isnan(ru)]\n",
        "print('Iu = {}'.format(Iu))"
      ],
      "metadata": {
        "colab": {
          "base_uri": "https://localhost:8080/"
        },
        "id": "l2RIagQuHyvl",
        "outputId": "9fe443b5-9e23-4721-84b7-d70e5060788a"
      },
      "execution_count": null,
      "outputs": [
        {
          "output_type": "stream",
          "name": "stdout",
          "text": [
            "Iu = [0 1 2 3 4 5 6]\n"
          ]
        }
      ]
    },
    {
      "cell_type": "code",
      "source": [
        "#18 ユーザuが「好き」と評価したアイテム集合\n",
        "Iup = I[ru==+1]\n",
        "print('Iu+ = {}'.format(Iup))"
      ],
      "metadata": {
        "colab": {
          "base_uri": "https://localhost:8080/"
        },
        "id": "YluaZcyRHsEx",
        "outputId": "98ea69af-3d7d-4a11-897b-6e90a0f7f941"
      },
      "execution_count": null,
      "outputs": [
        {
          "output_type": "stream",
          "name": "stdout",
          "text": [
            "Iu+ = [0 1 2]\n"
          ]
        }
      ]
    },
    {
      "cell_type": "code",
      "source": [
        "#19 ユーザuが「嫌い」と評価したアイテム集合\n",
        "Iun = I[ru==-1]\n",
        "print('Iu- = {}'.format(Iun))"
      ],
      "metadata": {
        "colab": {
          "base_uri": "https://localhost:8080/"
        },
        "id": "3qjbIOuFIpth",
        "outputId": "ccd03e20-9f74-451d-e6e2-73b26c3df208"
      },
      "execution_count": null,
      "outputs": [
        {
          "output_type": "stream",
          "name": "stdout",
          "text": [
            "Iu- = [3 4 5 6]\n"
          ]
        }
      ]
    },
    {
      "cell_type": "code",
      "source": [
        "#20 ユーザuが未評価のアイテム集合\n",
        "Iu_not = I[np.isnan(ru)]\n",
        "print('Iu_not = {}'.format(Iu_not))"
      ],
      "metadata": {
        "colab": {
          "base_uri": "https://localhost:8080/"
        },
        "id": "XOPP0kZ4I0dy",
        "outputId": "bcf2989f-0f00-4fac-bba9-cf746ff7307f"
      },
      "execution_count": null,
      "outputs": [
        {
          "output_type": "stream",
          "name": "stdout",
          "text": [
            "Iu_not = [ 7  8  9 10 11 12]\n"
          ]
        }
      ]
    },
    {
      "cell_type": "code",
      "source": [
        "#21 訓練データ\n",
        "DuL = Du[Iu]\n",
        "print('DuL = \\n{}'.format(DuL))"
      ],
      "metadata": {
        "colab": {
          "base_uri": "https://localhost:8080/"
        },
        "id": "_5uQn64LJV30",
        "outputId": "4b5766df-f2e9-4396-c097-b83897084063"
      },
      "execution_count": null,
      "outputs": [
        {
          "output_type": "stream",
          "name": "stdout",
          "text": [
            "DuL = \n",
            "[[ 5.  3.  1.]\n",
            " [ 6.  2.  1.]\n",
            " [ 4.  1.  1.]\n",
            " [ 8.  5. -1.]\n",
            " [ 2.  4. -1.]\n",
            " [ 3.  6. -1.]\n",
            " [ 7.  6. -1.]]\n"
          ]
        }
      ]
    },
    {
      "cell_type": "code",
      "source": [
        "#22 訓練事例数\n",
        "print('|DuL| = {}'.format(np.shape(DuL)[0]))"
      ],
      "metadata": {
        "colab": {
          "base_uri": "https://localhost:8080/"
        },
        "id": "Nd-3jCqDKwHj",
        "outputId": "0ea258f5-c305-4bbb-c184-49f35ee02de1"
      },
      "execution_count": null,
      "outputs": [
        {
          "output_type": "stream",
          "name": "stdout",
          "text": [
            "|DuL| = 7\n"
          ]
        }
      ]
    },
    {
      "cell_type": "code",
      "source": [
        "#23 正事例数\n",
        "print('|DuL+| = {}'.format( np.shape(DuL[DuL[:,2]==+1])[0] ) )"
      ],
      "metadata": {
        "colab": {
          "base_uri": "https://localhost:8080/"
        },
        "id": "XpnMKw6TK_HM",
        "outputId": "91148d95-50f4-49af-abe9-2819ae8ed0de"
      },
      "execution_count": null,
      "outputs": [
        {
          "output_type": "stream",
          "name": "stdout",
          "text": [
            "|DuL+| = 3\n"
          ]
        }
      ]
    },
    {
      "cell_type": "code",
      "source": [
        "#24 負事例数\n",
        "print('|DuL-| = {}'.format( np.shape(DuL[DuL[:,2]==-1])[0] ) )"
      ],
      "metadata": {
        "colab": {
          "base_uri": "https://localhost:8080/"
        },
        "id": "CfMPGkRbMMun",
        "outputId": "873dfeef-7368-4222-ddb5-6e7f48a5ad48"
      },
      "execution_count": null,
      "outputs": [
        {
          "output_type": "stream",
          "name": "stdout",
          "text": [
            "|DuL-| = 4\n"
          ]
        }
      ]
    },
    {
      "cell_type": "code",
      "source": [
        "#25 予測対象データ\n",
        "DuU = Du[Iu_not]\n",
        "print('DuU = \\n{}'.format(DuU))"
      ],
      "metadata": {
        "colab": {
          "base_uri": "https://localhost:8080/"
        },
        "id": "0Xi22hB7MyJL",
        "outputId": "70c6d9a6-65af-4df4-bff9-2ab0fccbfbf0"
      },
      "execution_count": null,
      "outputs": [
        {
          "output_type": "stream",
          "name": "stdout",
          "text": [
            "DuU = \n",
            "[[ 4.  2. nan]\n",
            " [ 5.  1. nan]\n",
            " [ 8.  6. nan]\n",
            " [ 3.  4. nan]\n",
            " [ 4.  7. nan]\n",
            " [ 4.  4. nan]]\n"
          ]
        }
      ]
    },
    {
      "cell_type": "code",
      "source": [
        "#26 予測対象事例数\n",
        "print('|DuU| = {}'.format( np.shape(DuU)[0] ))"
      ],
      "metadata": {
        "colab": {
          "base_uri": "https://localhost:8080/"
        },
        "id": "yohL4YRiNL8t",
        "outputId": "4ccf89c1-a4f0-4746-ab13-8d005f13bfc3"
      },
      "execution_count": null,
      "outputs": [
        {
          "output_type": "stream",
          "name": "stdout",
          "text": [
            "|DuU| = 6\n"
          ]
        }
      ]
    }
  ]
}
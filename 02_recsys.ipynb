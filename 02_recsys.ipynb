{
  "nbformat": 4,
  "nbformat_minor": 0,
  "metadata": {
    "colab": {
      "name": "02_recsys.ipynb",
      "provenance": [],
      "collapsed_sections": [],
      "authorship_tag": "ABX9TyN2kemm5UhHc2LjXiR6JWDX",
      "include_colab_link": true
    },
    "kernelspec": {
      "name": "python3",
      "display_name": "Python 3"
    },
    "language_info": {
      "name": "python"
    }
  },
  "cells": [
    {
      "cell_type": "markdown",
      "metadata": {
        "id": "view-in-github",
        "colab_type": "text"
      },
      "source": [
        "<a href=\"https://colab.research.google.com/github/kalkande/recsys-python/blob/main/02_recsys.ipynb\" target=\"_parent\"><img src=\"https://colab.research.google.com/assets/colab-badge.svg\" alt=\"Open In Colab\"/></a>"
      ]
    },
    {
      "cell_type": "code",
      "execution_count": null,
      "metadata": {
        "id": "N_QwQRg5frK8"
      },
      "outputs": [],
      "source": [
        "import pprint\n",
        "import numpy as np\n",
        "np.set_printoptions(precision=3)"
      ]
    },
    {
      "cell_type": "code",
      "source": [
        "#01 評価値行列の生成\n",
        "nan = np.nan\n",
        "R = np.array([[nan,  4,  3,  1,  2,  nan],\n",
        "     [5,  5,  4,  nan,  3,  3],\n",
        "     [4, nan, 5,  3,  2,  nan],\n",
        "     [nan,  3,  nan,  2,  1,  1],\n",
        "     [2,  1,  2,  4,  nan,  3]])\n",
        "print('R = \\n{}'.format(R))"
      ],
      "metadata": {
        "id": "xoKhJ5mHgMaU",
        "colab": {
          "base_uri": "https://localhost:8080/"
        },
        "outputId": "2a893f46-2c20-4393-fc40-c010ee1cae14"
      },
      "execution_count": null,
      "outputs": [
        {
          "output_type": "stream",
          "name": "stdout",
          "text": [
            "R = \n",
            "[[nan  4.  3.  1.  2. nan]\n",
            " [ 5.  5.  4. nan  3.  3.]\n",
            " [ 4. nan  5.  3.  2. nan]\n",
            " [nan  3. nan  2.  1.  1.]\n",
            " [ 2.  1.  2.  4. nan  3.]]\n"
          ]
        }
      ]
    },
    {
      "cell_type": "code",
      "source": [
        "#02 ユーザ集合\n",
        "U = np.arange(0, np.shape(R)[0], 1)\n",
        "print('U = {}'.format(U))"
      ],
      "metadata": {
        "id": "XVwklPRkjjaN",
        "colab": {
          "base_uri": "https://localhost:8080/"
        },
        "outputId": "70ccc677-bb90-4bd1-e817-5416f9a5c6f6"
      },
      "execution_count": null,
      "outputs": [
        {
          "output_type": "stream",
          "name": "stdout",
          "text": [
            "U = [0 1 2 3 4]\n"
          ]
        }
      ]
    },
    {
      "cell_type": "code",
      "source": [
        "#03 アイテム集合\n",
        "I = np.arange(0, np.shape(R)[1], 1)\n",
        "print('I = {}'.format(I))"
      ],
      "metadata": {
        "id": "lEAmVb-flyfj",
        "colab": {
          "base_uri": "https://localhost:8080/"
        },
        "outputId": "9441694f-6d1a-42f7-c30f-cbfac75f5671"
      },
      "execution_count": null,
      "outputs": [
        {
          "output_type": "stream",
          "name": "stdout",
          "text": [
            "I = [0 1 2 3 4 5]\n"
          ]
        }
      ]
    },
    {
      "cell_type": "code",
      "source": [
        "#04 ユーザ数\n",
        "print('|U| = {}'.format(np.size(U)))"
      ],
      "metadata": {
        "id": "Pc2Pxh1TQRbE",
        "colab": {
          "base_uri": "https://localhost:8080/"
        },
        "outputId": "f5f1f654-d235-4867-f9fc-3285570ec254"
      },
      "execution_count": null,
      "outputs": [
        {
          "output_type": "stream",
          "name": "stdout",
          "text": [
            "|U| = 5\n"
          ]
        }
      ]
    },
    {
      "cell_type": "code",
      "source": [
        "#05 アイテム数\n",
        "print('|I| = {}'.format(np.size(I)))"
      ],
      "metadata": {
        "id": "zxICXn7MUDoi",
        "colab": {
          "base_uri": "https://localhost:8080/"
        },
        "outputId": "63459d53-2234-4ebe-8634-50a75e700658"
      },
      "execution_count": null,
      "outputs": [
        {
          "output_type": "stream",
          "name": "stdout",
          "text": [
            "|I| = 6\n"
          ]
        }
      ]
    },
    {
      "cell_type": "code",
      "source": [
        "#06 評価値\n",
        "u = 0\n",
        "i = 1\n",
        "print('r{}{} = {}'.format(u, i, R[0,1]))"
      ],
      "metadata": {
        "id": "DjaMllH0UQeM",
        "colab": {
          "base_uri": "https://localhost:8080/"
        },
        "outputId": "15a3f018-be3a-4455-8032-1e8f9019c3a5"
      },
      "execution_count": null,
      "outputs": [
        {
          "output_type": "stream",
          "name": "stdout",
          "text": [
            "r01 = 4.0\n"
          ]
        }
      ]
    },
    {
      "cell_type": "code",
      "source": [
        "#07 評価値行列の全要素数\n",
        "print('Rの全要素数 = {}'.format(np.size(R)))"
      ],
      "metadata": {
        "id": "H2mngilkUgr8",
        "colab": {
          "base_uri": "https://localhost:8080/"
        },
        "outputId": "004d06d6-7562-407a-bb11-b96716d6afc5"
      },
      "execution_count": null,
      "outputs": [
        {
          "output_type": "stream",
          "name": "stdout",
          "text": [
            "Rの全要素数 = 30\n"
          ]
        }
      ]
    },
    {
      "cell_type": "code",
      "source": [
        "#08 観測されているか否かの判定\n",
        "print('観測値 = \\n{}'.format(~np.isnan(R)))"
      ],
      "metadata": {
        "id": "RqDR_u-mUqLC",
        "colab": {
          "base_uri": "https://localhost:8080/"
        },
        "outputId": "d092c805-2693-412f-d0b0-b0934338d082"
      },
      "execution_count": null,
      "outputs": [
        {
          "output_type": "stream",
          "name": "stdout",
          "text": [
            "観測値 = \n",
            "[[False  True  True  True  True False]\n",
            " [ True  True  True False  True  True]\n",
            " [ True False  True  True  True False]\n",
            " [False  True False  True  True  True]\n",
            " [ True  True  True  True False  True]]\n"
          ]
        }
      ]
    },
    {
      "cell_type": "code",
      "source": [
        "#09 評価値行列の観測値数\n",
        "print('|R| = {}'.format(np.count_nonzero(~np.isnan(R))))\n",
        "print('|R| = {}'.format(np.size(~np.isnan(R)[~np.isnan(R)!=0])))"
      ],
      "metadata": {
        "id": "Ny3xHkYsV08i",
        "colab": {
          "base_uri": "https://localhost:8080/"
        },
        "outputId": "7ec250b8-a6e1-4f53-9972-948241e94322"
      },
      "execution_count": null,
      "outputs": [
        {
          "output_type": "stream",
          "name": "stdout",
          "text": [
            "|R| = 22\n",
            "|R| = 22\n"
          ]
        }
      ]
    },
    {
      "cell_type": "code",
      "source": [
        "#10 評価値行列の疎性\n",
        "aR = np.count_nonzero(~np.isnan(R))\n",
        "aU = np.size(U)\n",
        "aI = np.size(I)\n",
        "sparsity = 1 - aR / (aU*aI)\n",
        "print('sparsity = {:.3f}'.format(sparsity))"
      ],
      "metadata": {
        "id": "hpi7FTmDS-Lu",
        "colab": {
          "base_uri": "https://localhost:8080/"
        },
        "outputId": "c2cbfd43-62d1-448d-b8f6-3668aeb22e76"
      },
      "execution_count": null,
      "outputs": [
        {
          "output_type": "stream",
          "name": "stdout",
          "text": [
            "sparsity = 0.267\n"
          ]
        }
      ]
    },
    {
      "cell_type": "code",
      "source": [
        "#11 ユーザuが評価済みのアイテム集合\n",
        "u = 0\n",
        "print('I{} = {}'.format(u, I[~np.isnan(R[u])] ))"
      ],
      "metadata": {
        "colab": {
          "base_uri": "https://localhost:8080/"
        },
        "id": "zJwROh8YWOb4",
        "outputId": "f537b8f4-2990-4c94-9a2d-75660e3eef15"
      },
      "execution_count": null,
      "outputs": [
        {
          "output_type": "stream",
          "name": "stdout",
          "text": [
            "I0 = [1 2 3 4]\n"
          ]
        }
      ]
    },
    {
      "cell_type": "code",
      "source": [
        "#12 各ユーザの評価済みアイテム集合\n",
        "Iu = list()\n",
        "for u in U:\n",
        "  Iu.append( I[~np.isnan(R[u])] )\n",
        "print('Iu = ')\n",
        "pprint.pprint(Iu)\n",
        "\n",
        "Iu=[ I[~np.isnan(R[u])] for u in U ]\n",
        "print('Iu = ')\n",
        "pprint.pprint(Iu)"
      ],
      "metadata": {
        "colab": {
          "base_uri": "https://localhost:8080/"
        },
        "id": "9jbqUscR4CVU",
        "outputId": "a43cac6b-df3e-48ed-e7ff-7727b7b64944"
      },
      "execution_count": null,
      "outputs": [
        {
          "output_type": "stream",
          "name": "stdout",
          "text": [
            "Iu = \n",
            "[array([1, 2, 3, 4]),\n",
            " array([0, 1, 2, 4, 5]),\n",
            " array([0, 2, 3, 4]),\n",
            " array([1, 3, 4, 5]),\n",
            " array([0, 1, 2, 3, 5])]\n",
            "Iu = \n",
            "[array([1, 2, 3, 4]),\n",
            " array([0, 1, 2, 4, 5]),\n",
            " array([0, 2, 3, 4]),\n",
            " array([1, 3, 4, 5]),\n",
            " array([0, 1, 2, 3, 5])]\n"
          ]
        }
      ]
    },
    {
      "cell_type": "code",
      "source": [
        "#13 ユーザuとユーザvの共通の評価済みアイテム集合\n",
        "u = 0\n",
        "v = 1\n",
        "Iuv = np.intersect1d(Iu[u],Iu[v])\n",
        "print('I{}{} = {}'.format(u, v, Iuv))"
      ],
      "metadata": {
        "colab": {
          "base_uri": "https://localhost:8080/"
        },
        "id": "vKhrxA6G8b45",
        "outputId": "ddd552d0-5cf7-40a1-e48f-6fbe00fddf61"
      },
      "execution_count": null,
      "outputs": [
        {
          "output_type": "stream",
          "name": "stdout",
          "text": [
            "I01 = [1 2 4]\n"
          ]
        }
      ]
    },
    {
      "cell_type": "code",
      "source": [
        "#14 アイテムiを評価済みのユーザ集合\n",
        "i = 0\n",
        "print('U{} = {}'.format(i, U[~np.isnan(R[:,i])]))"
      ],
      "metadata": {
        "colab": {
          "base_uri": "https://localhost:8080/"
        },
        "id": "rtjeeXjfcVgU",
        "outputId": "f078a84c-b1c5-499a-9a15-376ca619223c"
      },
      "execution_count": null,
      "outputs": [
        {
          "output_type": "stream",
          "name": "stdout",
          "text": [
            "U0 = [1 2 4]\n"
          ]
        }
      ]
    },
    {
      "cell_type": "code",
      "source": [
        "#15 各アイテムの評価済みユーザ集合\n",
        "Ui = list()\n",
        "for i in I:\n",
        "  Ui.append(U[~np.isnan(R[:,i])])\n",
        "print('Ui = ')\n",
        "pprint.pprint(Ui)\n",
        "\n",
        "Ui=[ U[~np.isnan(R[:,i])] for i in I ]\n",
        "print('Ui = ')\n",
        "pprint.pprint(Ui)"
      ],
      "metadata": {
        "colab": {
          "base_uri": "https://localhost:8080/"
        },
        "id": "hZ6eJe13d7BN",
        "outputId": "93cccc94-85d5-40b3-9622-be57cff2f3d9"
      },
      "execution_count": null,
      "outputs": [
        {
          "output_type": "stream",
          "name": "stdout",
          "text": [
            "Ui = \n",
            "[array([1, 2, 4]),\n",
            " array([0, 1, 3, 4]),\n",
            " array([0, 1, 2, 4]),\n",
            " array([0, 2, 3, 4]),\n",
            " array([0, 1, 2, 3]),\n",
            " array([1, 3, 4])]\n",
            "Ui = \n",
            "[array([1, 2, 4]),\n",
            " array([0, 1, 3, 4]),\n",
            " array([0, 1, 2, 4]),\n",
            " array([0, 2, 3, 4]),\n",
            " array([0, 1, 2, 3]),\n",
            " array([1, 3, 4])]\n"
          ]
        }
      ]
    },
    {
      "cell_type": "code",
      "source": [
        "#16 アイテムiとアイテムjの両方を評価済みのユーザ集合\n",
        "i = 0\n",
        "j = 4\n",
        "Uij = np.intersect1d(Ui[i],Ui[j])\n",
        "print('U{}{} = {}'.format(i, j, Uij))"
      ],
      "metadata": {
        "colab": {
          "base_uri": "https://localhost:8080/"
        },
        "id": "pYBzw33_tjbt",
        "outputId": "67a384af-3bcf-4b79-e3b5-e0191ef773d9"
      },
      "execution_count": null,
      "outputs": [
        {
          "output_type": "stream",
          "name": "stdout",
          "text": [
            "U04 = [1 2]\n"
          ]
        }
      ]
    },
    {
      "cell_type": "code",
      "source": [
        "#17 評価値行列全体の平均評価値\n",
        "print('R全体の平均評価値 = {:.3f}'.format( np.nanmean(R) ))"
      ],
      "metadata": {
        "colab": {
          "base_uri": "https://localhost:8080/"
        },
        "id": "fXgykfhkuZsv",
        "outputId": "d96bbcb1-c01b-4073-8898-08844e780b35"
      },
      "execution_count": null,
      "outputs": [
        {
          "output_type": "stream",
          "name": "stdout",
          "text": [
            "R全体の平均評価値 = 2.864\n"
          ]
        }
      ]
    },
    {
      "cell_type": "code",
      "source": [
        "#18 各アイテムの平均評価値\n",
        "ri_mean = np.nanmean(R,axis=0)\n",
        "print('ri_mean = {}'.format(ri_mean))"
      ],
      "metadata": {
        "colab": {
          "base_uri": "https://localhost:8080/"
        },
        "id": "K5qQ-sar2NVs",
        "outputId": "10b95d91-8728-45fb-99d0-562afc6598a4"
      },
      "execution_count": null,
      "outputs": [
        {
          "output_type": "stream",
          "name": "stdout",
          "text": [
            "ri_mean = [3.667 3.25  3.5   2.5   2.    2.333]\n"
          ]
        }
      ]
    },
    {
      "cell_type": "code",
      "source": [
        "#19 各ユーザの平均評価値\n",
        "ru_mean = np.nanmean(R,axis = 1)\n",
        "print('ru_mean = {}'.format(ru_mean))"
      ],
      "metadata": {
        "colab": {
          "base_uri": "https://localhost:8080/"
        },
        "id": "Q0Z6eSI09DNs",
        "outputId": "85527d61-95c5-4dbc-cbcd-7b1436f8e97c"
      },
      "execution_count": null,
      "outputs": [
        {
          "output_type": "stream",
          "name": "stdout",
          "text": [
            "ru_mean = [2.5  4.   3.5  1.75 2.4 ]\n"
          ]
        }
      ]
    },
    {
      "cell_type": "code",
      "source": [
        "#20 評価値ベクトルの形状変換\n",
        "print('ru_mean = \\n{}'.format( np.ndarray.reshape(ru_mean,5,1) ))"
      ],
      "metadata": {
        "colab": {
          "base_uri": "https://localhost:8080/"
        },
        "id": "Z_lCxheM74Of",
        "outputId": "2cf6b698-78e5-43f8-b3af-2ec471cbe1ff"
      },
      "execution_count": null,
      "outputs": [
        {
          "output_type": "stream",
          "name": "stdout",
          "text": [
            "ru_mean = \n",
            "[[2.5 ]\n",
            " [4.  ]\n",
            " [3.5 ]\n",
            " [1.75]\n",
            " [2.4 ]]\n"
          ]
        }
      ]
    },
    {
      "cell_type": "code",
      "source": [
        "#21 平均中心化評価値行列\n",
        "R2 = np.ndarray.reshape( np.array([R[:,i] - ru_mean for i in I]),6,5).T\n",
        "print('R\\' = \\n{}'.format(R2))"
      ],
      "metadata": {
        "colab": {
          "base_uri": "https://localhost:8080/"
        },
        "id": "u_ExM4SDAmOl",
        "outputId": "31af5904-9282-471d-b1d0-56e52aa16f82"
      },
      "execution_count": null,
      "outputs": [
        {
          "output_type": "stream",
          "name": "stdout",
          "text": [
            "R' = \n",
            "[[  nan  1.5   0.5  -1.5  -0.5    nan]\n",
            " [ 1.    1.    0.     nan -1.   -1.  ]\n",
            " [ 0.5    nan  1.5  -0.5  -1.5    nan]\n",
            " [  nan  1.25   nan  0.25 -0.75 -0.75]\n",
            " [-0.4  -1.4  -0.4   1.6    nan  0.6 ]]\n"
          ]
        }
      ]
    }
  ]
}